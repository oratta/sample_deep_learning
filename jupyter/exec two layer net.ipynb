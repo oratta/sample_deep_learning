{
 "cells": [
  {
   "cell_type": "code",
   "execution_count": 1,
   "metadata": {},
   "outputs": [],
   "source": [
    "import numpy as np"
   ]
  },
  {
   "cell_type": "code",
   "execution_count": 5,
   "metadata": {},
   "outputs": [],
   "source": [
    "import sys, os\n",
    "sys.path.append(os.pardir)\n",
    "from dataset.mnist import load_mnist\n",
    "from src.TwoLayerNet import TwoLayerNet"
   ]
  },
  {
   "cell_type": "code",
   "execution_count": 6,
   "metadata": {},
   "outputs": [],
   "source": [
    "(x_train, t_train), (x_test, t_test) = load_mnist(normalize=True, one_hot_label=True)"
   ]
  },
  {
   "cell_type": "code",
   "execution_count": 12,
   "metadata": {},
   "outputs": [],
   "source": [
    "iters_num = train_size = 10000\n",
    "batch_size = 100\n",
    "learning_rate = 0.1"
   ]
  },
  {
   "cell_type": "code",
   "execution_count": 13,
   "metadata": {},
   "outputs": [],
   "source": [
    "train_loss_list = []\n",
    "train_acc_list = []\n",
    "test_acc_list = []\n",
    "\n",
    "#1エポックあたりの繰り返し数\n",
    "iter_per_epoch = max(iters_num / batch_size, 1)"
   ]
  },
  {
   "cell_type": "code",
   "execution_count": 26,
   "metadata": {},
   "outputs": [
    {
     "name": "stdout",
     "output_type": "stream",
     "text": [
      "-----loop:0----\n",
      "params:W1 = 2.0328931646000497\n",
      "params:b1 = 0.00018423983502848025\n",
      "params:W2 = 2.5447487661503256\n",
      "params:b2 = 0.09900000000000002\n",
      "train acc, test acc | 0.09915, 0.1009\n",
      "-----loop:100----\n",
      "params:W1 = 712.0401710353348\n",
      "params:b1 = 8.166145268085812\n",
      "params:W2 = 428.44361613166666\n",
      "params:b2 = 9.998999999999997\n",
      "train acc, test acc | 0.10441666666666667, 0.1028\n",
      "-----loop:200----\n",
      "params:W1 = 984.0415141566482\n",
      "params:b1 = 12.225880238868786\n",
      "params:W2 = 920.1014670428601\n",
      "params:b2 = 19.899000000000004\n",
      "train acc, test acc | 0.11236666666666667, 0.1135\n",
      "-----loop:300----\n",
      "params:W1 = 1140.8308295359136\n",
      "params:b1 = 14.712941298007902\n",
      "params:W2 = 1414.0066527504996\n",
      "params:b2 = 29.799000000000007\n",
      "train acc, test acc | 0.11236666666666667, 0.1135\n",
      "-----loop:400----\n",
      "params:W1 = 1255.312061762777\n",
      "params:b1 = 16.56236692831976\n",
      "params:W2 = 1908.4422133000348\n",
      "params:b2 = 39.699\n",
      "train acc, test acc | 0.11236666666666667, 0.1135\n",
      "-----loop:500----\n",
      "params:W1 = 1346.3544346438728\n",
      "params:b1 = 18.10890158899032\n",
      "params:W2 = 2403.0832964208275\n",
      "params:b2 = 49.599000000000004\n",
      "train acc, test acc | 0.11236666666666667, 0.1135\n",
      "-----loop:600----\n",
      "params:W1 = 1422.8805078553357\n",
      "params:b1 = 19.43906122013516\n",
      "params:W2 = 2897.833854157023\n",
      "params:b2 = 59.49900000000001\n",
      "train acc, test acc | 0.11236666666666667, 0.1135\n",
      "-----loop:700----\n",
      "params:W1 = 1485.8973623666452\n",
      "params:b1 = 20.5368465590216\n",
      "params:W2 = 3392.660002092501\n",
      "params:b2 = 69.399\n",
      "train acc, test acc | 0.11236666666666667, 0.1135\n",
      "-----loop:800----\n",
      "params:W1 = 1547.4255786828583\n",
      "params:b1 = 21.621045206141183\n",
      "params:W2 = 3887.5122396024644\n",
      "params:b2 = 79.29899999999999\n",
      "train acc, test acc | 0.11236666666666667, 0.1135\n",
      "-----loop:900----\n",
      "params:W1 = 1598.0097971426044\n",
      "params:b1 = 22.533643484816018\n",
      "params:W2 = 4382.403005878345\n",
      "params:b2 = 89.19899999999998\n",
      "train acc, test acc | 0.11236666666666667, 0.1135\n",
      "-----loop:1000----\n",
      "params:W1 = 1644.9357358648724\n",
      "params:b1 = 23.38601428620244\n",
      "params:W2 = 4877.311694213186\n",
      "params:b2 = 99.09899999999992\n",
      "train acc, test acc | 0.11236666666666667, 0.1135\n"
     ]
    }
   ],
   "source": [
    "network = TwoLayerNet(input_size=784, hidden_size=50, output_size=10)\n",
    "for i in range(iters_num):\n",
    "    # get mini batch\n",
    "    batch_mask = np.random.choice(train_size, batch_size)\n",
    "    x_batch = x_train[batch_mask]\n",
    "    t_batch = t_train[batch_mask]\n",
    "    \n",
    "    # calcurate gradient\n",
    "    grab = network.gradient(x_batch, t_batch)\n",
    "    \n",
    "    # update parameter\n",
    "    for key in ('W1', 'b1', 'W2', 'b2'):\n",
    "        network.params[key] -= learning_rate * grab[key]\n",
    "        \n",
    "    loss = network.loss(x_batch, t_batch)\n",
    "    train_loss_list.append(loss)\n",
    "    \n",
    "    if i % iter_per_epoch == 0:\n",
    "        train_acc = network.accuracy(x_train, t_train)\n",
    "        test_acc = network.accuracy(x_test, t_test)\n",
    "        train_acc_list.append(train_acc)\n",
    "        test_acc_list.append(test_acc)\n",
    "        print(\"-----loop:\" + str(i)+\"----\")\n",
    "#         print(\"grab:\"+key+\" = \"+str(np.sum(grab[key])))\n",
    "        for key in ('W1', 'b1', 'W2', 'b2'):\n",
    "            print(\"params:\"+key+\" = \"+str(np.sum(network.params[key])))\n",
    "        print(\"train acc, test acc | \" + str(train_acc) + \", \" + str(test_acc))\n",
    "        \n",
    "    if i > 1000:\n",
    "        break"
   ]
  },
  {
   "cell_type": "code",
   "execution_count": 24,
   "metadata": {},
   "outputs": [
    {
     "name": "stdout",
     "output_type": "stream",
     "text": [
      "-----loop:0----\n",
      "grab:b2 = -0.99\n",
      "train acc, test acc | 0.11236666666666667, 0.1135\n",
      "-----loop:100----\n",
      "grab:b2 = -0.9899999999999999\n",
      "train acc, test acc | 0.11236666666666667, 0.1135\n",
      "-----loop:200----\n",
      "grab:b2 = -0.99\n",
      "train acc, test acc | 0.11236666666666667, 0.1135\n",
      "-----loop:300----\n",
      "grab:b2 = -0.9900000000000001\n",
      "train acc, test acc | 0.10441666666666667, 0.1028\n",
      "-----loop:400----\n",
      "grab:b2 = -0.9900000000000001\n",
      "train acc, test acc | 0.11236666666666667, 0.1135\n",
      "-----loop:500----\n",
      "grab:b2 = -0.99\n",
      "train acc, test acc | 0.11236666666666667, 0.1135\n",
      "-----loop:600----\n",
      "grab:b2 = -0.99\n",
      "train acc, test acc | 0.11236666666666667, 0.1135\n",
      "-----loop:700----\n",
      "grab:b2 = -0.9899999999999998\n",
      "train acc, test acc | 0.11236666666666667, 0.1135\n",
      "-----loop:800----\n",
      "grab:b2 = -0.9900000000000001\n",
      "train acc, test acc | 0.11236666666666667, 0.1135\n",
      "-----loop:900----\n",
      "grab:b2 = -0.9899999999999999\n",
      "train acc, test acc | 0.11236666666666667, 0.1135\n",
      "-----loop:1000----\n",
      "grab:b2 = -0.9900000000000001\n",
      "train acc, test acc | 0.11236666666666667, 0.1135\n"
     ]
    }
   ],
   "source": []
  },
  {
   "cell_type": "code",
   "execution_count": 21,
   "metadata": {},
   "outputs": [
    {
     "data": {
      "text/plain": [
       "[<matplotlib.lines.Line2D at 0x12b36ce90>]"
      ]
     },
     "execution_count": 21,
     "metadata": {},
     "output_type": "execute_result"
    },
    {
     "data": {
      "image/png": "[encoded data removed]",
      "text/plain": [
       "<Figure size 432x288 with 1 Axes>"
      ]
     },
     "metadata": {
      "needs_background": "light"
     },
     "output_type": "display_data"
    }
   ],
   "source": [
    "import  matplotlib.pylab as plt\n",
    "x = np.arange(0, 100, 1)\n",
    "plt.plot(x, test_acc_list)"
   ]
  },
  {
   "cell_type": "code",
   "execution_count": null,
   "metadata": {},
   "outputs": [],
   "source": []
  }
 ],
 "metadata": {
  "kernelspec": {
   "display_name": "Python 3",
   "language": "python",
   "name": "python3"
  },
  "language_info": {
   "codemirror_mode": {
    "name": "ipython",
    "version": 3
   },
   "file_extension": ".py",
   "mimetype": "text/x-python",
   "name": "python",
   "nbconvert_exporter": "python",
   "pygments_lexer": "ipython3",
   "version": "3.7.4"
  }
 },
 "nbformat": 4,
 "nbformat_minor": 4
}
