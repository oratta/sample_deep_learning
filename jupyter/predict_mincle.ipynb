{
 "cells": [
  {
   "cell_type": "code",
   "execution_count": 1,
   "metadata": {},
   "outputs": [],
   "source": [
    "import sys, os\n",
    "sys.path.append(os.pardir)\n",
    "from src.mnist_image import get_data, init_network, img_show\n",
    "from src.neural_network import predict"
   ]
  },
  {
   "cell_type": "code",
   "execution_count": 2,
   "metadata": {},
   "outputs": [],
   "source": [
    "import numpy as np"
   ]
  },
  {
   "cell_type": "code",
   "execution_count": 3,
   "metadata": {},
   "outputs": [
    {
     "name": "stdout",
     "output_type": "stream",
     "text": [
      "(100, 784)\n"
     ]
    }
   ],
   "source": [
    "x, t = get_data(100)\n",
    "print(x.shape)\n",
    "network = init_network(\"../dataset/sample_weight.pkl\")"
   ]
  },
  {
   "cell_type": "code",
   "execution_count": 4,
   "metadata": {},
   "outputs": [
    {
     "name": "stdout",
     "output_type": "stream",
     "text": [
      "predict=6correct=5\n",
      "[4.06840055e-04 3.36791743e-05 7.64177104e-04 2.63233168e-06\n",
      " 2.41010806e-02 7.39834476e-03 9.64981071e-01 4.38200897e-07\n",
      " 2.24988848e-03 6.18479978e-05]\n",
      "--------------------------\n",
      "predict=6correct=4\n",
      "[3.40123541e-01 1.93618981e-06 5.58958124e-03 1.38897562e-06\n",
      " 1.41118289e-02 5.91818992e-02 5.79317502e-01 4.99705718e-05\n",
      " 1.55158672e-03 7.07648763e-05]\n",
      "--------------------------\n",
      "predict=7correct=5\n",
      "[4.01704958e-02 1.40944374e-04 4.88177392e-03 6.94089128e-05\n",
      " 2.20675505e-03 2.49996152e-01 4.10515831e-04 5.73239144e-01\n",
      " 1.26665450e-01 2.21936094e-03]\n",
      "--------------------------\n",
      "predict=4correct=9\n",
      "[8.82441584e-08 2.87545651e-05 5.79628516e-05 3.17053464e-05\n",
      " 9.09072838e-01 1.11805145e-04 8.96423639e-05 1.35533528e-04\n",
      " 7.27601128e-03 8.31956583e-02]\n",
      "--------------------------\n"
     ]
    }
   ],
   "source": [
    "accuracy_cnt = 0\n",
    "for i in range(len(x)):\n",
    "    y = predict(network, x[i])\n",
    "    p = np.argmax(y)\n",
    "    if p == t[i]:\n",
    "        accuracy_cnt += 1\n",
    "    else:\n",
    "        print(\"predict=\" + str(p) + \"correct=\" + str(t[i]))\n",
    "        print(y)\n",
    "        print(\"--------------------------\")\n",
    "        img_show(x[i])"
   ]
  },
  {
   "cell_type": "code",
   "execution_count": 5,
   "metadata": {},
   "outputs": [
    {
     "name": "stdout",
     "output_type": "stream",
     "text": [
      "Accuracy:0.96\n"
     ]
    }
   ],
   "source": [
    "print(\"Accuracy:\" + str(float(accuracy_cnt)/ len(x)))"
   ]
  },
  {
   "cell_type": "code",
   "execution_count": null,
   "metadata": {},
   "outputs": [],
   "source": []
  }
 ],
 "metadata": {
  "kernelspec": {
   "display_name": "Python 3",
   "language": "python",
   "name": "python3"
  },
  "language_info": {
   "codemirror_mode": {
    "name": "ipython",
    "version": 3
   },
   "file_extension": ".py",
   "mimetype": "text/x-python",
   "name": "python",
   "nbconvert_exporter": "python",
   "pygments_lexer": "ipython3",
   "version": "3.7.4"
  }
 },
 "nbformat": 4,
 "nbformat_minor": 4
}
